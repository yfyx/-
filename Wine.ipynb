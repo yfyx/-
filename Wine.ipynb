{
 "cells": [
  {
   "cell_type": "markdown",
   "metadata": {},
   "source": [
    "# 数据探索性分析与数据预处理"
   ]
  },
  {
   "cell_type": "markdown",
   "metadata": {},
   "source": [
    "刘逸凡 3220190847"
   ]
  },
  {
   "cell_type": "markdown",
   "metadata": {},
   "source": [
    "本次作业中，将对 2 个数据集进行探索性分析与预处理。 "
   ]
  },
  {
   "cell_type": "markdown",
   "metadata": {},
   "source": [
    "数据集wine-reviews"
   ]
  },
  {
   "cell_type": "markdown",
   "metadata": {},
   "source": [
    "wine-reviews数据集本身保存为 csv 格式，关于酒评价信息的数据统计，根据数据集的属性解释得知该数据集 有10个属性，包含酒的名称、评价、度数、价格等信息。根据属性解释文件分析后可以得 出，数值属性包括：'points', 'price'；标称属性包括：'country', 'description', 'designation',\n",
    "             'province', 'region_1', 'region_2', 'variety', 'winery'等8个属性"
   ]
  },
  {
   "cell_type": "code",
   "execution_count": 2,
   "metadata": {},
   "outputs": [],
   "source": [
    "import csv\n",
    "import numpy as np\n",
    "import matplotlib.pyplot as plt\n",
    "import pandas as pd\n",
    "import json\n",
    "from math import sqrt\n",
    "from statsmodels.formula.api import ols\n",
    "plt.rcParams['font.sans-serif'] = ['SimHei']  # 用来正常显示中文标\n",
    "# import statsmodels.api as sm\n",
    "# 读取数据\n",
    "df = pd.read_csv('C:/Users/74024/Documents/study/Going/DM/DM427/wine-reviews/winemag-data_first150k.csv')\n",
    "# 数值属性\n",
    "label_num = ['points', 'price']\n",
    "label_nom = ['country', 'description', 'designation',\n",
    "             'province', 'region_1', 'region_2', 'variety', 'winery']\n",
    "df_num = df[label_num]#数值属性\n",
    "df_nom = df[label_nom]#标称属性"
   ]
  },
  {
   "cell_type": "markdown",
   "metadata": {},
   "source": [
    "## 数据摘要"
   ]
  },
  {
   "cell_type": "markdown",
   "metadata": {},
   "source": [
    "### 标称属性："
   ]
  },
  {
   "cell_type": "code",
   "execution_count": 14,
   "metadata": {},
   "outputs": [],
   "source": [
    "# 数据摘要-----------\n",
    "# 属性可能取值频数\n",
    "def frequency(label):\n",
    "    f = df[label].value_counts()\n",
    "    f = pd.DataFrame(f)\n",
    "    return f"
   ]
  },
  {
   "cell_type": "markdown",
   "metadata": {},
   "source": [
    "标称属性的频数：因为标称属性过多，在报告中只列举部分标称属性的统计量,使用.value_counts() 函数列出该属性可能取值频数并显示。"
   ]
  },
  {
   "cell_type": "code",
   "execution_count": 13,
   "metadata": {},
   "outputs": [
    {
     "name": "stdout",
     "output_type": "stream",
     "text": [
      "country可能取值:\n",
      "                        country\n",
      "US                        62397\n",
      "Italy                     23478\n",
      "France                    21098\n",
      "Spain                      8268\n",
      "Chile                      5816\n",
      "Argentina                  5631\n",
      "Portugal                   5322\n",
      "Australia                  4957\n",
      "New Zealand                3320\n",
      "Austria                    3057\n",
      "Germany                    2452\n",
      "South Africa               2258\n",
      "Greece                      884\n",
      "Israel                      630\n",
      "Hungary                     231\n",
      "Canada                      196\n",
      "Romania                     139\n",
      "Slovenia                     94\n",
      "Uruguay                      92\n",
      "Croatia                      89\n",
      "Bulgaria                     77\n",
      "Moldova                      71\n",
      "Mexico                       63\n",
      "Turkey                       52\n",
      "Georgia                      43\n",
      "Lebanon                      37\n",
      "Cyprus                       31\n",
      "Brazil                       25\n",
      "Macedonia                    16\n",
      "Serbia                       14\n",
      "Morocco                      12\n",
      "England                       9\n",
      "Luxembourg                    9\n",
      "Lithuania                     8\n",
      "India                         8\n",
      "Czech Republic                6\n",
      "Ukraine                       5\n",
      "Bosnia and Herzegovina        4\n",
      "South Korea                   4\n",
      "Switzerland                   4\n",
      "China                         3\n",
      "Egypt                         3\n",
      "Slovakia                      3\n",
      "Montenegro                    2\n",
      "Albania                       2\n",
      "Japan                         2\n",
      "Tunisia                       2\n",
      "US-France                     1\n",
      "description可能取值:\n",
      "                                                    description\n",
      "Powerful in Zinny character, this blend of Dry ...            6\n",
      "92-94 Barrel sample. A rounded wine, its tannin...            6\n",
      "86-88 This could work as a rich wine, because t...            6\n",
      "A little bit funky and unsettled when you pop t...            6\n",
      "Sweet cherry and baking vanilla aromas are foll...            5\n",
      "...                                                         ...\n",
      "Extraordinarily rich and complicated, a dry, fu...            1\n",
      "This pleasant Sauvignon from Friuli shows typic...            1\n",
      "This is a blend of Grenache and Cinsault from t...            1\n",
      "Sweet, tart and simple, like the filling on a b...            1\n",
      "Made with a little Gewürztraminer, this pretty ...            1\n",
      "\n",
      "[97821 rows x 1 columns]\n",
      "designation可能取值:\n",
      "                                           designation\n",
      "Reserve                                           2752\n",
      "Reserva                                           1810\n",
      "Estate                                            1571\n",
      "Barrel sample                                     1326\n",
      "Riserva                                            754\n",
      "...                                                ...\n",
      "Graf de La Tour                                      1\n",
      "Cooper Block Starr Ridge                             1\n",
      "Twin Peak Vineyard Unfined and Unfiltered            1\n",
      "Petalos                                              1\n",
      "Sono                                                 1\n",
      "\n",
      "[30621 rows x 1 columns]\n",
      "province可能取值:\n",
      "                province\n",
      "California         44508\n",
      "Washington          9750\n",
      "Tuscany             7281\n",
      "Bordeaux            6111\n",
      "Northern Spain      4892\n",
      "...                  ...\n",
      "Rose Valley            1\n",
      "Douro Superior         1\n",
      "Waitaki Valley         1\n",
      "Sterea Ellada          1\n",
      "San Clemente           1\n",
      "\n",
      "[455 rows x 1 columns]\n",
      "region_1可能取值:\n",
      "                                       region_1\n",
      "Napa Valley                                6209\n",
      "Columbia Valley (WA)                       4975\n",
      "Mendoza                                    3586\n",
      "Russian River Valley                       3571\n",
      "California                                 3462\n",
      "...                                         ...\n",
      "Del Veneto                                    1\n",
      "Paestum                                       1\n",
      "Napa County-Sonoma County-Lake County         1\n",
      "Asolo Prosecco Superiore                      1\n",
      "Outer Coastal Plain                           1\n",
      "\n",
      "[1236 rows x 1 columns]\n",
      "region_2可能取值:\n",
      "                         region_2\n",
      "Central Coast               13057\n",
      "Sonoma                      11258\n",
      "Columbia Valley              9157\n",
      "Napa                         8801\n",
      "California Other             3516\n",
      "Willamette Valley            3181\n",
      "Mendocino/Lake Counties      2389\n",
      "Sierra Foothills             1660\n",
      "Napa-Sonoma                  1645\n",
      "Finger Lakes                 1510\n",
      "Central Valley               1115\n",
      "Long Island                   771\n",
      "Southern Oregon               662\n",
      "Oregon Other                  661\n",
      "North Coast                   632\n",
      "Washington Other              593\n",
      "South Coast                   198\n",
      "New York Other                147\n",
      "variety可能取值:\n",
      "                          variety\n",
      "Chardonnay                  14482\n",
      "Pinot Noir                  14291\n",
      "Cabernet Sauvignon          12800\n",
      "Red Blend                   10062\n",
      "Bordeaux-style Red Blend     7347\n",
      "...                           ...\n",
      "Huxelrebe                       1\n",
      "Irsai Oliver                    1\n",
      "Cabernet Franc-Malbec           1\n",
      "Petit Meslier                   1\n",
      "Sacy                            1\n",
      "\n",
      "[632 rows x 1 columns]\n",
      "winery可能取值:\n",
      "                       winery\n",
      "Williams Selyem           374\n",
      "Testarossa                274\n",
      "DFJ Vinhos                258\n",
      "Chateau Ste. Michelle     225\n",
      "Columbia Crest            217\n",
      "...                       ...\n",
      "Château Fonchereau          1\n",
      "Hamilton's Bluff            1\n",
      "Beccarello                  1\n",
      "Macaw Creek                 1\n",
      "Stable Hill                 1\n",
      "\n",
      "[14810 rows x 1 columns]\n"
     ]
    }
   ],
   "source": [
    "# 标称属性频数输出\n",
    "def OutNominal():\n",
    "    for item in lable_nom:\n",
    "        print(\"{}可能取值:\\n{}\".format(item, frequency(item)))\n",
    "OutNominal()"
   ]
  },
  {
   "cell_type": "markdown",
   "metadata": {},
   "source": [
    "由频数发现，原产地在美国的酒占数量最大，而美国中加利福尼亚州出产的酒数量占多数"
   ]
  },
  {
   "cell_type": "markdown",
   "metadata": {},
   "source": [
    "### 数值属性："
   ]
  },
  {
   "cell_type": "markdown",
   "metadata": {},
   "source": [
    "选取数值属性，分别使用.max(),.min(),.mean(),.median(),.quantile()等函数获取属性最大、最小、均值、中位数、四分位数。使用.isnull().sum()函数获取缺失值个数。"
   ]
  },
  {
   "cell_type": "code",
   "execution_count": 66,
   "metadata": {},
   "outputs": [
    {
     "name": "stdout",
     "output_type": "stream",
     "text": [
      "points五数概括为：80，86.0，87.8884184721394，90.0，100\n",
      "price五数概括为：4.0，16.0，33.13148249353299，40.0，2300.0\n",
      "points数据缺失值个数为：0\n",
      "price数据缺失值个数为：13695\n"
     ]
    }
   ],
   "source": [
    "#数值属性5数概括\n",
    "def Num5():\n",
    "    for item in label_num:\n",
    "        Minimum = df[item].min()\n",
    "        Maximum = df[item].max()\n",
    "        Q1 = df[item].quantile(0.25)\n",
    "        Median = df[item].mean()\n",
    "        Q3 = df[item].quantile(0.75)\n",
    "        print(\"{}五数概括为：{}，{}，{}，{}，{}\".format(item,Minimum,Q1,Median,Q3,Maximum))\n",
    "#数值属性缺失值个数\n",
    "def lostdata(nums,item):\n",
    "     nulltotal = nums[item].isnull().sum()\n",
    "     print(\"{}数据缺失值个数为：{}\".format(item,nulltotal))\n",
    "Num5()\n",
    "for item in label_num :\n",
    "    lostdata(df,item)"
   ]
  },
  {
   "cell_type": "markdown",
   "metadata": {},
   "source": [
    "## 数据可视化："
   ]
  },
  {
   "cell_type": "markdown",
   "metadata": {},
   "source": [
    "导入matplotlib.pyplot模块，用于数据可视化。\n",
    "使用hist(bins = XX)函数，绘制直方图。\n",
    "使用boxplot()函数，绘制盒图"
   ]
  },
  {
   "cell_type": "code",
   "execution_count": 3,
   "metadata": {},
   "outputs": [
    {
     "data": {
      "image/png": "[encoded data removed]",
      "text/plain": [
       "<Figure size 432x288 with 1 Axes>"
      ]
     },
     "metadata": {
      "needs_background": "light"
     },
     "output_type": "display_data"
    },
    {
     "data": {
      "image/png": "[encoded data removed]",
      "text/plain": [
       "<Figure size 432x288 with 1 Axes>"
      ]
     },
     "metadata": {
      "needs_background": "light"
     },
     "output_type": "display_data"
    },
    {
     "data": {
      "image/png": "[encoded data removed]",
      "text/plain": [
       "<Figure size 432x288 with 1 Axes>"
      ]
     },
     "metadata": {
      "needs_background": "light"
     },
     "output_type": "display_data"
    },
    {
     "data": {
      "image/png": "[encoded data removed]",
      "text/plain": [
       "<Figure size 432x288 with 1 Axes>"
      ]
     },
     "metadata": {
      "needs_background": "light"
     },
     "output_type": "display_data"
    }
   ],
   "source": [
    "#数据可视化\n",
    "#直方图\n",
    "def plothist(nums,lable):\n",
    "    nums=nums.dropna()\n",
    "    plt.hist(x=nums,  # 指定绘图数据\n",
    "             bins=50,# 指定直方图中条块的个数\n",
    "             edgecolor = 'black') # 指定直方图的边框色\n",
    "    plt.xlabel(lable)\n",
    "    plt.ylabel('频数')\n",
    "    plt.show()\n",
    "#盒图\n",
    "def Box(nums):\n",
    "    l = pd.DataFrame(nums)\n",
    "    l.boxplot()\n",
    "    plt.show()\n",
    "plothist(df['points'],'points')\n",
    "plothist(df['price'],'price')\n",
    "Box(df['points'])\n",
    "Box(df['price'])"
   ]
  },
  {
   "cell_type": "markdown",
   "metadata": {},
   "source": [
    "## 缺失值处理"
   ]
  },
  {
   "cell_type": "markdown",
   "metadata": {},
   "source": [
    "由数据摘要中的缺失值个数得，数值属性有缺失值的只有'price'价格属性"
   ]
  },
  {
   "cell_type": "markdown",
   "metadata": {},
   "source": [
    "### 对比图可视化"
   ]
  },
  {
   "cell_type": "code",
   "execution_count": 2,
   "metadata": {},
   "outputs": [],
   "source": [
    "def doublenum(nums1,nums2):\n",
    "    plt.figure(figsize=(30, 10))\n",
    "    p1=plt.subplot(121)\n",
    "    plt.sca(p1)\n",
    "    nums1.hist(bins=500,edgecolor = 'black')\n",
    "    plt.xlim((1, 200))\n",
    "    p2=plt.subplot(122)\n",
    "    p1.set_title(\"填补前\",fontsize=18)\n",
    "    plt.sca(p2)\n",
    "    nums2.hist(bins=500,edgecolor = 'black')\n",
    "    plt.xlim((1, 200))\n",
    "    p2.set_title(\"填补后\",fontsize=18)\n",
    "    plt.show()"
   ]
  },
  {
   "cell_type": "markdown",
   "metadata": {},
   "source": [
    "### 将缺失部分剔除"
   ]
  },
  {
   "cell_type": "markdown",
   "metadata": {},
   "source": [
    "使用isnull().sum()函数统计数值属性缺失值数量，有针对性的分析其缺失的原因"
   ]
  },
  {
   "cell_type": "code",
   "execution_count": 65,
   "metadata": {},
   "outputs": [
    {
     "name": "stdout",
     "output_type": "stream",
     "text": [
      "price数据缺失值个数为：0\n"
     ]
    }
   ],
   "source": [
    "def delMiss(nums,label):\n",
    "    nums=nums.dropna()\n",
    "    lostdata(nums,label)\n",
    "delMiss(df,'price')"
   ]
  },
  {
   "cell_type": "markdown",
   "metadata": {},
   "source": [
    "### 用最高频率值来填补缺失值"
   ]
  },
  {
   "cell_type": "markdown",
   "metadata": {},
   "source": [
    "使用mode()函数获取众数，使用fillna()函数填补缺失值，并用直方图可视化地对比新旧数据集"
   ]
  },
  {
   "cell_type": "code",
   "execution_count": 6,
   "metadata": {
    "scrolled": true
   },
   "outputs": [
    {
     "data": {
      "image/png": "[encoded data removed]",
      "text/plain": [
       "<Figure size 2160x720 with 2 Axes>"
      ]
     },
     "metadata": {
      "needs_background": "light"
     },
     "output_type": "display_data"
    }
   ],
   "source": [
    "#用最高频率值来填补缺失值\n",
    "def ModeFill(num):\n",
    "    modefill=num.mode()\n",
    "    modedata = modefill.iloc[0]  # 众数值提取\n",
    "    numsf = num.fillna(modedata)  # 填充\n",
    "    doublenum(num,numsf)\n",
    "ModeFill(df['price'])"
   ]
  },
  {
   "cell_type": "markdown",
   "metadata": {},
   "source": [
    "### 通过属性的相关关系来填补缺失值"
   ]
  },
  {
   "cell_type": "markdown",
   "metadata": {},
   "source": [
    "首先计算属性之间的相关关系"
   ]
  },
  {
   "cell_type": "code",
   "execution_count": 68,
   "metadata": {},
   "outputs": [
    {
     "name": "stdout",
     "output_type": "stream",
     "text": [
      "            Unnamed: 0    points     price\n",
      "Unnamed: 0    1.000000 -0.094197 -0.036687\n",
      "points       -0.094197  1.000000  0.459863\n",
      "price        -0.036687  0.459863  1.000000\n"
     ]
    }
   ],
   "source": [
    "def corrsp(nums):\n",
    "    cs = nums.corr()\n",
    "    print(cs)\n",
    "    return\n",
    "corrsp(df)"
   ]
  },
  {
   "cell_type": "markdown",
   "metadata": {},
   "source": [
    "得出price和points之间的相关性是最高的"
   ]
  },
  {
   "cell_type": "code",
   "execution_count": 3,
   "metadata": {
    "scrolled": true
   },
   "outputs": [
    {
     "data": {
      "image/png": "[encoded data removed]",
      "text/plain": [
       "<Figure size 2940x1372 with 2 Axes>"
      ]
     },
     "metadata": {
      "needs_background": "light"
     },
     "output_type": "display_data"
    }
   ],
   "source": [
    "def corfill(nums):\n",
    "    plt.figure(figsize=(30, 14), dpi=98)\n",
    "    p1 = plt.subplot(1, 2, 1)\n",
    "    p2 = plt.subplot(1, 2, 2)\n",
    "    plt.sca(p1)\n",
    "    nums['price'].hist(bins=500, edgecolor='black')\n",
    "    plt.xlim((1, 200))\n",
    "    p1.set_title(\"填补前\", fontsize=18)\n",
    "    wine_model = ols(\"price ~points\",data=nums).fit()\n",
    "    price_pred = wine_model.predict(nums['points'])\n",
    "    for i in range(len(nums['price'])):\n",
    "        if (np.isnan(nums['price'][i])):\n",
    "            nums.loc[i, 'price']  = int(price_pred[i])\n",
    "    plt.sca(p2)\n",
    "    nums['price'].hist(bins=500, edgecolor='black')\n",
    "    plt.xlim((1, 200))\n",
    "    p2.set_title(\"填补后\", fontsize=18)\n",
    "    plt.show()\n",
    "corfill(df)"
   ]
  },
  {
   "cell_type": "markdown",
   "metadata": {},
   "source": [
    "### 通过属性相似性来填补缺失值"
   ]
  },
  {
   "cell_type": "code",
   "execution_count": 12,
   "metadata": {},
   "outputs": [],
   "source": [
    "#通过属性相似性来填补缺失值\n",
    "df_sim = df[['price','points']]\n",
    "pp = {}\n",
    "for row in df_sim.iterrows():\n",
    "    if pp.get(row[1]['points'], None):\n",
    "        if not np.isnan(row[1]['price']):\n",
    "            pp[row[1]['points']][0] += row[1]['price']\n",
    "            pp[row[1]['points']][1] += 1\n",
    "    else:\n",
    "        if not np.isnan(row[1]['price']):\n",
    "            pp[row[1]['points']] = [row[1]['price'], 1]\n",
    "for k in pp.keys():\n",
    "    pp[k][0] = round(pp[k][0] / pp[k][1], 4)\n",
    "for i in range(len(df_sim['price'])):\n",
    "    if (np.isnan(df_sim['price'][i])):\n",
    "        df_sim.loc[i, 'price']  = pp[df_sim.loc[i, 'points']][0]"
   ]
  },
  {
   "cell_type": "code",
   "execution_count": 15,
   "metadata": {},
   "outputs": [
    {
     "data": {
      "image/png": "[encoded data removed]",
      "text/plain": [
       "<Figure size 432x288 with 1 Axes>"
      ]
     },
     "metadata": {
      "needs_background": "light"
     },
     "output_type": "display_data"
    }
   ],
   "source": [
    "plt.hist(x=df_sim['price'],  # 指定绘图数据\n",
    "             bins=400,# 指定直方图中条块的个数\n",
    "             edgecolor = 'black') # 指定直方图的边框色\n",
    "plt.xlabel('price')\n",
    "plt.ylabel('频数')\n",
    "plt.xlim((1, 200))\n",
    "plt.show()"
   ]
  }
 ],
 "metadata": {
  "kernelspec": {
   "display_name": "Python 3",
   "language": "python",
   "name": "python3"
  },
  "language_info": {
   "codemirror_mode": {
    "name": "ipython",
    "version": 3
   },
   "file_extension": ".py",
   "mimetype": "text/x-python",
   "name": "python",
   "nbconvert_exporter": "python",
   "pygments_lexer": "ipython3",
   "version": "3.8.1"
  }
 },
 "nbformat": 4,
 "nbformat_minor": 4
}
